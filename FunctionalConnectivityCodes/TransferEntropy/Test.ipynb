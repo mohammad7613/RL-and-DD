{
 "cells": [
  {
   "cell_type": "code",
   "execution_count": 1,
   "metadata": {},
   "outputs": [
    {
     "name": "stdout",
     "output_type": "stream",
     "text": [
      "0.5491267129500628\n"
     ]
    }
   ],
   "source": [
    "import TransferEntropy\n",
    "import numpy as np\n",
    "\n",
    "signal_length = 1000\n",
    "X = np.sin(np.linspace(0, 10 * np.pi, signal_length)) + 0.01 * np.random.randn(signal_length)\n",
    "Y = np.cos(np.linspace(0, 10 * np.pi, signal_length)) + 0.01 * np.random.randn(signal_length)\n",
    "\n",
    "\n",
    "\n",
    "n = 3  # Window size for X\n",
    "m = 2  # Window size for Y\n",
    "d_x = 2\n",
    "d_y = 3\n",
    "\n",
    "print(TransferEntropy.TransferEntropy(X,Y,d_x,d_y,n,m))\n"
   ]
  },
  {
   "cell_type": "markdown",
   "metadata": {},
   "source": [
    "## It should be checked"
   ]
  },
  {
   "cell_type": "code",
   "execution_count": null,
   "metadata": {},
   "outputs": [],
   "source": []
  }
 ],
 "metadata": {
  "kernelspec": {
   "display_name": "test",
   "language": "python",
   "name": "python3"
  },
  "language_info": {
   "codemirror_mode": {
    "name": "ipython",
    "version": 3
   },
   "file_extension": ".py",
   "mimetype": "text/x-python",
   "name": "python",
   "nbconvert_exporter": "python",
   "pygments_lexer": "ipython3",
   "version": "3.8.19"
  }
 },
 "nbformat": 4,
 "nbformat_minor": 2
}
